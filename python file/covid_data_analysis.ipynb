{
 "cells": [
  {
   "cell_type": "code",
   "execution_count": 1,
   "metadata": {},
   "outputs": [],
   "source": [
    "import pandas as pd\n",
    "import matplotlib.pyplot as plt\n",
    "import matplotlib.animation as animation\n",
    "from time import sleep"
   ]
  },
  {
   "cell_type": "code",
   "execution_count": 2,
   "metadata": {},
   "outputs": [
    {
     "data": {
      "text/html": [
       "<div>\n",
       "<style scoped>\n",
       "    .dataframe tbody tr th:only-of-type {\n",
       "        vertical-align: middle;\n",
       "    }\n",
       "\n",
       "    .dataframe tbody tr th {\n",
       "        vertical-align: top;\n",
       "    }\n",
       "\n",
       "    .dataframe thead th {\n",
       "        text-align: right;\n",
       "    }\n",
       "</style>\n",
       "<table border=\"1\" class=\"dataframe\">\n",
       "  <thead>\n",
       "    <tr style=\"text-align: right;\">\n",
       "      <th></th>\n",
       "      <th>Date</th>\n",
       "      <th>Time</th>\n",
       "      <th>State/UnionTerritory</th>\n",
       "      <th>ConfirmedIndianNational</th>\n",
       "      <th>cured</th>\n",
       "      <th>Deaths</th>\n",
       "      <th>Confirmed</th>\n",
       "    </tr>\n",
       "  </thead>\n",
       "  <tbody>\n",
       "    <tr>\n",
       "      <th>0</th>\n",
       "      <td>30-01-20</td>\n",
       "      <td>6:00 PM</td>\n",
       "      <td>Kerala</td>\n",
       "      <td>1</td>\n",
       "      <td>0</td>\n",
       "      <td>0</td>\n",
       "      <td>0</td>\n",
       "    </tr>\n",
       "    <tr>\n",
       "      <th>1</th>\n",
       "      <td>31-01-20</td>\n",
       "      <td>6:00 PM</td>\n",
       "      <td>Kerala</td>\n",
       "      <td>1</td>\n",
       "      <td>0</td>\n",
       "      <td>0</td>\n",
       "      <td>0</td>\n",
       "    </tr>\n",
       "    <tr>\n",
       "      <th>2</th>\n",
       "      <td>01-02-20</td>\n",
       "      <td>6:00 PM</td>\n",
       "      <td>Kerala</td>\n",
       "      <td>2</td>\n",
       "      <td>0</td>\n",
       "      <td>0</td>\n",
       "      <td>0</td>\n",
       "    </tr>\n",
       "    <tr>\n",
       "      <th>3</th>\n",
       "      <td>02-02-20</td>\n",
       "      <td>6:00 PM</td>\n",
       "      <td>Kerala</td>\n",
       "      <td>3</td>\n",
       "      <td>0</td>\n",
       "      <td>0</td>\n",
       "      <td>0</td>\n",
       "    </tr>\n",
       "    <tr>\n",
       "      <th>4</th>\n",
       "      <td>03-02-20</td>\n",
       "      <td>6:00 PM</td>\n",
       "      <td>Kerala</td>\n",
       "      <td>3</td>\n",
       "      <td>0</td>\n",
       "      <td>0</td>\n",
       "      <td>0</td>\n",
       "    </tr>\n",
       "  </tbody>\n",
       "</table>\n",
       "</div>"
      ],
      "text/plain": [
       "       Date     Time State/UnionTerritory ConfirmedIndianNational cured  \\\n",
       "0  30-01-20  6:00 PM               Kerala                       1     0   \n",
       "1  31-01-20  6:00 PM               Kerala                       1     0   \n",
       "2  01-02-20  6:00 PM               Kerala                       2     0   \n",
       "3  02-02-20  6:00 PM               Kerala                       3     0   \n",
       "4  03-02-20  6:00 PM               Kerala                       3     0   \n",
       "\n",
       "   Deaths  Confirmed  \n",
       "0       0          0  \n",
       "1       0          0  \n",
       "2       0          0  \n",
       "3       0          0  \n",
       "4       0          0  "
      ]
     },
     "execution_count": 2,
     "metadata": {},
     "output_type": "execute_result"
    }
   ],
   "source": [
    "import pandas as pd\n",
    "\n",
    "df = pd.read_csv(r'C:/Users/LENOVO/Documents/conew.csv', header= None, engine='python')\n",
    "df = df.loc[:, [0, 1, 2,3,4,5,6]]\n",
    "df = df.rename(index=str, columns={ 0: \"Date\", 1:\"Time\" ,2: \"State/UnionTerritory\", 3: \"ConfirmedIndianNational\",4:\"cured\", 5:\"Deaths\",6:\"Confirmed\"})\n",
    "df.head(5)"
   ]
  },
  {
   "cell_type": "code",
   "execution_count": 3,
   "metadata": {},
   "outputs": [
    {
     "name": "stdout",
     "output_type": "stream",
     "text": [
      "['30-01-20' '31-01-20' '01-02-20' '02-02-20' '03-02-20' '04-02-20'\n",
      " '05-02-20' '06-02-20' '07-02-20' '08-02-20' '09-02-20' '10-02-20'\n",
      " '11-02-20' '12-02-20' '13-02-20' '14-02-20' '15-02-20' '16-02-20'\n",
      " '17-02-20' '18-02-20' '19-02-20' '20-02-20' '21-02-20' '22-02-20'\n",
      " '23-02-20' '24-02-20' '25-02-20' '26-02-20' '27-02-20' '28-02-20'\n",
      " '29-02-20' '01-03-20' '02-03-20' '03-03-20' '04-03-20' '05-03-20'\n",
      " '06-03-20' '07-03-20' '08-03-20' '09-03-20' '10-03-20' '11-03-20'\n",
      " '12-03-20' '13-03-20' '14-03-20' '15-03-20' '16-03-20' '17-03-20'\n",
      " '18-03-20' '19-03-20' '20-03-20' '21-03-20' '22-03-20' '23-03-20'\n",
      " '24-03-20' '25-03-20' '26-03-20' '27-03-20' '28-03-20' '29-03-20'\n",
      " '30-03-20' '31-03-20' '01-04-20' '02-04-20' '03-04-20' '04-04-20'\n",
      " '05-04-20' '06-04-20' '07-04-20' '08-04-20' '09-04-20' '10-04-20'\n",
      " '11-04-20' '12-04-20' '13-04-20' '14-04-20' '15-04-20' '16-04-20'\n",
      " '17-04-20' '18-04-20' '19-04-20' '20-04-20' '21-04-20' '22-04-20'\n",
      " '23-04-20' '24-04-20' '25-04-20' '26-04-20' '27-04-20' '28-04-20'\n",
      " '29-04-20' '30-04-20' '01-05-20' '02-05-20' '03-05-20' '04-05-20'\n",
      " '05-05-20' '06-05-20' '07-05-20' '08-05-20' '09-05-20' '10-05-20'\n",
      " '11-05-20' '12-05-20' '13-05-20' '14-05-20' '15-05-20' '16-05-20'\n",
      " '17-05-20' '18-05-20' '19-05-20' '20-05-20' '21-05-20' '22-05-20'\n",
      " '23-05-20' '24-05-20' '25-05-20' '26-05-20' '27-05-20' '28-05-20'\n",
      " '29-05-20' '30-05-20' '31-05-20' '01-06-20' '02-06-20' '03-06-20'\n",
      " '04-06-20' '05-06-20' '06-06-20' '07-06-20' '08-06-20' '09-06-20'\n",
      " '10-06-20' '11-06-20' '12-06-20' '13-06-20' '14-06-20' '15-06-20'\n",
      " '16-06-20' '17-06-20' '18-06-20' '19-06-20' '20-06-20' '21-06-20'\n",
      " '22-06-20' '23-06-20' '24-06-20' '25-06-20' '26-06-20' '27-06-20'\n",
      " '28-06-20' '29-06-20' '30-06-20' '01-07-20' '02-07-20' '03-07-20'\n",
      " '04-07-20' '05-07-20' '06-07-20' '07-07-20' '08-07-20' '09-07-20'\n",
      " '10-07-20' '11-07-20' '12-07-20' '13-07-20']\n"
     ]
    }
   ],
   "source": [
    "#### ---- Step 2:- Create list of all dates\n",
    "list_dates = df['Date'].unique()\n",
    "print(list_dates)"
   ]
  },
  {
   "cell_type": "code",
   "execution_count": 4,
   "metadata": {},
   "outputs": [
    {
     "name": "stdout",
     "output_type": "stream",
     "text": [
      "         Date     Time State/UnionTerritory ConfirmedIndianNational cured  \\\n",
      "74   09-03-20  6:00 PM            Karnataka                       1     0   \n",
      "89   10-03-20  6:00 PM            Karnataka                       4     0   \n",
      "108  11-03-20  6:00 PM            Karnataka                       4     0   \n",
      "\n",
      "     Deaths  Confirmed  \n",
      "74        0          0  \n",
      "89        0          0  \n",
      "108       0          0  \n"
     ]
    }
   ],
   "source": [
    "#### ----- Step 2 (Select data for India)----\n",
    "df_state = df[df['State/UnionTerritory'] == 'Karnataka']\n",
    "print(df_state.head(3))"
   ]
  },
  {
   "cell_type": "code",
   "execution_count": 5,
   "metadata": {},
   "outputs": [
    {
     "data": {
      "text/plain": [
       "<matplotlib.axes._subplots.AxesSubplot at 0x28919119d08>"
      ]
     },
     "execution_count": 5,
     "metadata": {},
     "output_type": "execute_result"
    },
    {
     "data": {
      "image/png": "[encoded data removed]",
      "text/plain": [
       "<Figure size 432x288 with 1 Axes>"
      ]
     },
     "metadata": {
      "needs_background": "light"
     },
     "output_type": "display_data"
    }
   ],
   "source": [
    "df.plot.box() \n",
    "  \n"
   ]
  },
  {
   "cell_type": "code",
   "execution_count": 6,
   "metadata": {},
   "outputs": [
    {
     "data": {
      "image/png": "[encoded data removed]",
      "text/plain": [
       "<Figure size 432x288 with 1 Axes>"
      ]
     },
     "metadata": {
      "needs_background": "light"
     },
     "output_type": "display_data"
    }
   ],
   "source": [
    "dh = pd.DataFrame(df, columns = ['cured', 'Deaths',  ] ) \n",
    "  \n",
    "# create histogram for numeric data \n",
    "dh.hist() \n",
    "  \n",
    "# show plot \n",
    "plt.show() \n"
   ]
  },
  {
   "cell_type": "code",
   "execution_count": 7,
   "metadata": {},
   "outputs": [
    {
     "data": {
      "image/png": "[encoded data removed]",
      "text/plain": [
       "<Figure size 432x288 with 1 Axes>"
      ]
     },
     "metadata": {
      "needs_background": "light"
     },
     "output_type": "display_data"
    }
   ],
   "source": [
    "\n",
    "  \n",
    "# plot between 2 attributes \n",
    "plt.bar(df['Date'], df['Deaths']) \n",
    "plt.xlabel(\"date\") \n",
    "plt.ylabel(\"cured\") \n",
    "plt.show() "
   ]
  },
  {
   "cell_type": "code",
   "execution_count": 8,
   "metadata": {},
   "outputs": [
    {
     "data": {
      "image/png": "[encoded data removed]",
      "text/plain": [
       "<Figure size 432x288 with 1 Axes>"
      ]
     },
     "metadata": {
      "needs_background": "light"
     },
     "output_type": "display_data"
    }
   ],
   "source": [
    "# individual attribute box plot \n",
    "plt.boxplot(df['Confirmed']) \n",
    "\n",
    "\n",
    "plt.show() "
   ]
  },
  {
   "cell_type": "code",
   "execution_count": 9,
   "metadata": {},
   "outputs": [
    {
     "data": {
      "image/png": "[encoded data removed]",
      "text/plain": [
       "<Figure size 432x288 with 1 Axes>"
      ]
     },
     "metadata": {
      "needs_background": "light"
     },
     "output_type": "display_data"
    }
   ],
   "source": [
    "# scatter plot between sales and age \n",
    "plt.scatter(df['Date'], df['Deaths']) \n",
    "plt.show() "
   ]
  },
  {
   "cell_type": "code",
   "execution_count": 10,
   "metadata": {},
   "outputs": [
    {
     "data": {
      "image/png": "[encoded data removed]",
      "text/plain": [
       "<Figure size 432x288 with 1 Axes>"
      ]
     },
     "metadata": {
      "needs_background": "light"
     },
     "output_type": "display_data"
    }
   ],
   "source": [
    "# scatter plot between sales and age \n",
    "plt.scatter(df['Date'], df['ConfirmedIndianNational']) \n",
    "plt.show() "
   ]
  },
  {
   "cell_type": "code",
   "execution_count": 11,
   "metadata": {},
   "outputs": [
    {
     "data": {
      "text/plain": [
       "<matplotlib.axes._subplots.AxesSubplot at 0x2891a43c688>"
      ]
     },
     "execution_count": 11,
     "metadata": {},
     "output_type": "execute_result"
    },
    {
     "data": {
      "image/png": "[encoded data removed]",
      "text/plain": [
       "<Figure size 720x432 with 2 Axes>"
      ]
     },
     "metadata": {
      "needs_background": "light"
     },
     "output_type": "display_data"
    }
   ],
   "source": [
    "import seaborn as sns\n",
    "fig, ax = plt.subplots(figsize=(10,6))\n",
    "sns.heatmap(df.corr(), center=0, cmap='BrBG', annot=True)"
   ]
  },
  {
   "cell_type": "code",
   "execution_count": null,
   "metadata": {},
   "outputs": [],
   "source": []
  },
  {
   "cell_type": "code",
   "execution_count": null,
   "metadata": {},
   "outputs": [],
   "source": []
  },
  {
   "cell_type": "code",
   "execution_count": null,
   "metadata": {},
   "outputs": [],
   "source": []
  },
  {
   "cell_type": "code",
   "execution_count": null,
   "metadata": {},
   "outputs": [],
   "source": []
  },
  {
   "cell_type": "code",
   "execution_count": null,
   "metadata": {},
   "outputs": [],
   "source": []
  }
 ],
 "metadata": {
  "kernelspec": {
   "display_name": "Python 3",
   "language": "python",
   "name": "python3"
  },
  "language_info": {
   "codemirror_mode": {
    "name": "ipython",
    "version": 3
   },
   "file_extension": ".py",
   "mimetype": "text/x-python",
   "name": "python",
   "nbconvert_exporter": "python",
   "pygments_lexer": "ipython3",
   "version": "3.7.6"
  }
 },
 "nbformat": 4,
 "nbformat_minor": 4
}
